{
 "cells": [
  {
   "metadata": {},
   "cell_type": "markdown",
   "source": [
    "# Facial Expression Recognition with Transfer Learning\n",
    "\n",
    "This program performs **facial expression recognition** using **transfer learning** with a pre-trained **ResNet-18** model. The dataset consists of images categorized into 8 different facial expressions:\n",
    "1. **Anger**\n",
    "2. **Contempt**\n",
    "3. **Disgust**\n",
    "4. **Fear**\n",
    "5. **Happy**\n",
    "6. **Neutral**\n",
    "7. **Sad**\n",
    "8. **Surprised**\n",
    "\n",
    "## Steps in the Program:\n",
    "1. **Import Libraries and Setup**: Import necessary Python libraries and set up the device (CPU or GPU) for computations.\n",
    "2. **Dataset Preparation**:\n",
    "   - Load and preprocess image data using a custom PyTorch `Dataset`.\n",
    "   - Normalize and resize the images.\n",
    "   - Use `DataLoader` for batch processing.\n",
    "3. **Load Pre-trained Model**:\n",
    "   - Load **ResNet-18** from `torchvision`.\n",
    "   - Modify the final fully connected layer to adapt to the 8-class classification task.\n",
    "4. **Model Compilation**:\n",
    "   - Define loss function (`NLLLoss`) and optimizer (`Adam`).\n",
    "5. **Training and Validation**:\n",
    "   - Train the model while tracking performance metrics (accuracy and loss).\n",
    "   - Evaluate the model on the validation dataset.\n",
    "6. **Visualization**:\n",
    "   - Plot the accuracy and loss trends over the training epochs.\n",
    "\n",
    "## Model Architecture:\n",
    "- **Pre-trained Backbone**: ResNet-18 (trained on ImageNet) is used for feature extraction. Layers are frozen to prevent re-training on the current dataset.\n",
    "- **Custom Fully Connected Layers**:\n",
    "  - Linear layer with 256 hidden units.\n",
    "  - ReLU activation function.\n",
    "  - Dropout (50%) for regularization.\n",
    "  - Final linear layer with 8 output units for classification into 8 facial expression categories.\n",
    "  - LogSoftmax for output probability distribution.\n",
    "\n",
    "## Expected Outcome:\n",
    "The model should be able to classify facial expressions with reasonable accuracy. Transfer learning leverages pre-trained features, reducing the need for large datasets and extensive training time.\n"
   ],
   "id": "629b467e5b51c980"
  },
  {
   "metadata": {},
   "cell_type": "markdown",
   "source": [
    "# Model Architecture: ResNet-18 with Custom Classification Head\n",
    "\n",
    "The architecture of the model used is based on **ResNet-18**, a convolutional neural network pre-trained on the ImageNet dataset.\n",
    "\n",
    "## 1. **Feature Extraction (Frozen Layers)**\n",
    "- ResNet-18 backbone is used as-is for feature extraction.\n",
    "- All convolutional and batch normalization layers are frozen (i.e., `requires_grad=False`).\n",
    "\n",
    "### Summary of ResNet-18:\n",
    "- **Input**: RGB image of size 224x224x3.\n",
    "- **Convolutional Layers**:\n",
    "  - Stack of residual blocks, each containing:\n",
    "    - 2 convolutional layers with Batch Normalization and ReLU.\n",
    "    - Skip connections for better gradient flow.\n",
    "  - Divided into 4 stages, progressively reducing spatial dimensions:\n",
    "    - Stage 1: 64 channels, output size 112x112.\n",
    "    - Stage 2: 128 channels, output size 56x56.\n",
    "    - Stage 3: 256 channels, output size 28x28.\n",
    "    - Stage 4: 512 channels, output size 7x7.\n",
    "- **Global Average Pooling**: Reduces feature maps to a 512-dimensional vector.\n",
    "\n",
    "## 2. **Custom Classification Head**\n",
    "- **Flattening**: Converts 512-dimensional vector into a 1D tensor.\n",
    "- **Fully Connected Layers**:\n",
    "  - **Layer 1**: Linear layer with 256 units and ReLU activation.\n",
    "  - **Dropout**: 50% for regularization to prevent overfitting.\n",
    "  - **Layer 2**: Linear layer with 8 output units (for 8 classes).\n",
    "  - **LogSoftmax**: Outputs log probabilities for each class.\n",
    "\n",
    "### Summary of Custom Layers:\n",
    "- `Linear(512, 256) → ReLU → Dropout(0.5)`\n",
    "- `Linear(256, 8) → LogSoftmax`\n",
    "\n",
    "## Model Diagram:\n",
    "1. **ResNet Backbone**:\n",
    "   - Input: RGB image.\n",
    "   - Output: 512-dimensional feature vector.\n",
    "2. **Classification Head**:\n",
    "   - Input: 512-dimensional feature vector.\n",
    "   - Output: Log probabilities of 8 classes.\n"
   ],
   "id": "1591d6324c6f7235"
  },
  {
   "cell_type": "code",
   "id": "initial_id",
   "metadata": {
    "collapsed": true,
    "ExecuteTime": {
     "end_time": "2024-11-22T12:02:26.657726Z",
     "start_time": "2024-11-22T12:02:26.653458Z"
    }
   },
   "source": [
    "import os\n",
    "import numpy as np\n",
    "import matplotlib.pyplot as plt\n",
    "from tqdm import tqdm\n",
    "from PIL import Image\n",
    "from collections import Counter\n",
    "\n",
    "import torch\n",
    "import torch.nn as nn\n",
    "import torch.optim as optim\n",
    "from torch.utils.data import DataLoader, Dataset, random_split\n",
    "from torchvision import models, transforms\n",
    "\n",
    "# Setup perangkat\n",
    "device = torch.device(\"cuda\" if torch.cuda.is_available() else \"cpu\")\n",
    "print(f\"Menggunakan perangkat: {device}\")\n"
   ],
   "outputs": [
    {
     "name": "stdout",
     "output_type": "stream",
     "text": [
      "Menggunakan perangkat: cuda\n"
     ]
    }
   ],
   "execution_count": 9
  },
  {
   "metadata": {
    "ExecuteTime": {
     "end_time": "2024-11-22T12:02:27.266137Z",
     "start_time": "2024-11-22T12:02:27.254763Z"
    }
   },
   "cell_type": "code",
   "source": [
    "# Custom Dataset untuk ekspresi wajah\n",
    "class FacialExpressionDataset(Dataset):\n",
    "    def __init__(self, root_dir, transform=None):\n",
    "        self.root_dir = root_dir\n",
    "        self.transform = transform\n",
    "        self.image_paths = []\n",
    "        self.labels = []\n",
    "        self.label_mapping = {\n",
    "            \"Anger\": 0,\n",
    "            \"Contempt\": 1,\n",
    "            \"Disgust\": 2,\n",
    "            \"Fear\": 3,\n",
    "            \"Happy\": 4,\n",
    "            \"Neutral\": 5,\n",
    "            \"Sad\": 6,\n",
    "            \"Surprised\": 7\n",
    "        }\n",
    "        self._prepare_dataset()\n",
    "\n",
    "    def _prepare_dataset(self):\n",
    "        for subfolder in os.listdir(self.root_dir):\n",
    "            subfolder_path = os.path.join(self.root_dir, subfolder)\n",
    "            if os.path.isdir(subfolder_path):  # Pastikan itu folder\n",
    "                for filename in os.listdir(subfolder_path):\n",
    "                    if filename.endswith(\".jpg\"):  # Hanya file gambar\n",
    "                        label_name = os.path.splitext(filename)[0]\n",
    "                        if label_name in self.label_mapping:\n",
    "                            self.image_paths.append(os.path.join(subfolder_path, filename))\n",
    "                            self.labels.append(self.label_mapping[label_name])\n",
    "\n",
    "    def __len__(self):\n",
    "        return len(self.image_paths)\n",
    "\n",
    "    def __getitem__(self, idx):\n",
    "        img_path = self.image_paths[idx]\n",
    "        label = self.labels[idx]\n",
    "        image = Image.open(img_path).convert(\"RGB\")\n",
    "\n",
    "        if self.transform:\n",
    "            image = self.transform(image)\n",
    "\n",
    "        return image, label\n",
    "\n",
    "# Transformasi data\n",
    "transform = transforms.Compose([\n",
    "    transforms.Resize((224, 224)),  # Reshape gambar\n",
    "    transforms.ToTensor(),  # Konversi ke Tensor\n",
    "    transforms.Normalize([0.485, 0.456, 0.406],  # Normalisasi sesuai ImageNet\n",
    "                         [0.229, 0.224, 0.225])\n",
    "])\n",
    "\n",
    "# Path dataset\n",
    "root_dir = './Dataset/'\n",
    "\n",
    "# Dataset\n",
    "dataset = FacialExpressionDataset(root_dir=root_dir, transform=transform)\n",
    "\n",
    "print(f\"Total data dalam dataset: {len(dataset)}\")\n"
   ],
   "id": "2c814ee278606944",
   "outputs": [
    {
     "name": "stdout",
     "output_type": "stream",
     "text": [
      "Total data dalam dataset: 184\n"
     ]
    }
   ],
   "execution_count": 10
  },
  {
   "metadata": {
    "ExecuteTime": {
     "end_time": "2024-11-22T12:02:27.740455Z",
     "start_time": "2024-11-22T12:02:27.667359Z"
    }
   },
   "cell_type": "code",
   "source": [
    "counter = Counter(dataset.labels)\n",
    "plt.bar(counter.keys(), counter.values())\n",
    "plt.title(\"Distribusi Label\")\n",
    "plt.xlabel(\"Kelas\")\n",
    "plt.ylabel(\"Jumlah\")\n",
    "plt.show()\n"
   ],
   "id": "62f69aed081bd81e",
   "outputs": [
    {
     "data": {
      "text/plain": [
       "<Figure size 640x480 with 1 Axes>"
      ],
      "image/png": "[encoded data removed]"
     },
     "metadata": {},
     "output_type": "display_data"
    }
   ],
   "execution_count": 11
  },
  {
   "metadata": {
    "ExecuteTime": {
     "end_time": "2024-11-22T12:02:40.325642Z",
     "start_time": "2024-11-22T12:02:40.318220Z"
    }
   },
   "cell_type": "code",
   "source": [
    "# Membagi dataset menjadi training dan validation\n",
    "train_size = int(0.7 * len(dataset))\n",
    "val_size = len(dataset) - train_size\n",
    "train_dataset, validation_dataset = random_split(dataset, [train_size, val_size])\n",
    "\n",
    "# DataLoader\n",
    "batch_size = 32\n",
    "train_loader = DataLoader(train_dataset, batch_size=batch_size, shuffle=True)\n",
    "validation_loader = DataLoader(validation_dataset, batch_size=batch_size, shuffle=False)\n",
    "\n",
    "print(f\"Data training: {len(train_dataset)}\")\n",
    "print(f\"Data validation: {len(validation_dataset)}\")\n"
   ],
   "id": "f7b905303c549bbb",
   "outputs": [
    {
     "name": "stdout",
     "output_type": "stream",
     "text": [
      "Data training: 128\n",
      "Data validation: 56\n"
     ]
    }
   ],
   "execution_count": 13
  },
  {
   "metadata": {
    "ExecuteTime": {
     "end_time": "2024-11-22T12:02:42.416866Z",
     "start_time": "2024-11-22T12:02:42.153698Z"
    }
   },
   "cell_type": "code",
   "source": [
    "# Load model pre-trained ResNet-18\n",
    "model_resnet = models.resnet18(pretrained=True)\n",
    "\n",
    "# Freeze semua layer\n",
    "for param in model_resnet.parameters():\n",
    "    param.requires_grad = False\n",
    "\n",
    "# Ganti fully connected layer terakhir\n",
    "num_classes = 8  # Jumlah ekspresi\n",
    "model_resnet.fc = nn.Sequential(\n",
    "    nn.Linear(model_resnet.fc.in_features, 256),  # Layer tambahan\n",
    "    nn.ReLU(),\n",
    "    nn.Dropout(0.5),\n",
    "    nn.Linear(256, num_classes),  # Output untuk jumlah kelas\n",
    "    nn.LogSoftmax(dim=1)  # LogSoftmax untuk klasifikasi\n",
    ")\n",
    "\n",
    "# Kirim model ke perangkat\n",
    "model_resnet = model_resnet.to(device)\n",
    "print(model_resnet)\n"
   ],
   "id": "a68d92f4ec5a5e35",
   "outputs": [
    {
     "name": "stdout",
     "output_type": "stream",
     "text": [
      "ResNet(\n",
      "  (conv1): Conv2d(3, 64, kernel_size=(7, 7), stride=(2, 2), padding=(3, 3), bias=False)\n",
      "  (bn1): BatchNorm2d(64, eps=1e-05, momentum=0.1, affine=True, track_running_stats=True)\n",
      "  (relu): ReLU(inplace=True)\n",
      "  (maxpool): MaxPool2d(kernel_size=3, stride=2, padding=1, dilation=1, ceil_mode=False)\n",
      "  (layer1): Sequential(\n",
      "    (0): BasicBlock(\n",
      "      (conv1): Conv2d(64, 64, kernel_size=(3, 3), stride=(1, 1), padding=(1, 1), bias=False)\n",
      "      (bn1): BatchNorm2d(64, eps=1e-05, momentum=0.1, affine=True, track_running_stats=True)\n",
      "      (relu): ReLU(inplace=True)\n",
      "      (conv2): Conv2d(64, 64, kernel_size=(3, 3), stride=(1, 1), padding=(1, 1), bias=False)\n",
      "      (bn2): BatchNorm2d(64, eps=1e-05, momentum=0.1, affine=True, track_running_stats=True)\n",
      "    )\n",
      "    (1): BasicBlock(\n",
      "      (conv1): Conv2d(64, 64, kernel_size=(3, 3), stride=(1, 1), padding=(1, 1), bias=False)\n",
      "      (bn1): BatchNorm2d(64, eps=1e-05, momentum=0.1, affine=True, track_running_stats=True)\n",
      "      (relu): ReLU(inplace=True)\n",
      "      (conv2): Conv2d(64, 64, kernel_size=(3, 3), stride=(1, 1), padding=(1, 1), bias=False)\n",
      "      (bn2): BatchNorm2d(64, eps=1e-05, momentum=0.1, affine=True, track_running_stats=True)\n",
      "    )\n",
      "  )\n",
      "  (layer2): Sequential(\n",
      "    (0): BasicBlock(\n",
      "      (conv1): Conv2d(64, 128, kernel_size=(3, 3), stride=(2, 2), padding=(1, 1), bias=False)\n",
      "      (bn1): BatchNorm2d(128, eps=1e-05, momentum=0.1, affine=True, track_running_stats=True)\n",
      "      (relu): ReLU(inplace=True)\n",
      "      (conv2): Conv2d(128, 128, kernel_size=(3, 3), stride=(1, 1), padding=(1, 1), bias=False)\n",
      "      (bn2): BatchNorm2d(128, eps=1e-05, momentum=0.1, affine=True, track_running_stats=True)\n",
      "      (downsample): Sequential(\n",
      "        (0): Conv2d(64, 128, kernel_size=(1, 1), stride=(2, 2), bias=False)\n",
      "        (1): BatchNorm2d(128, eps=1e-05, momentum=0.1, affine=True, track_running_stats=True)\n",
      "      )\n",
      "    )\n",
      "    (1): BasicBlock(\n",
      "      (conv1): Conv2d(128, 128, kernel_size=(3, 3), stride=(1, 1), padding=(1, 1), bias=False)\n",
      "      (bn1): BatchNorm2d(128, eps=1e-05, momentum=0.1, affine=True, track_running_stats=True)\n",
      "      (relu): ReLU(inplace=True)\n",
      "      (conv2): Conv2d(128, 128, kernel_size=(3, 3), stride=(1, 1), padding=(1, 1), bias=False)\n",
      "      (bn2): BatchNorm2d(128, eps=1e-05, momentum=0.1, affine=True, track_running_stats=True)\n",
      "    )\n",
      "  )\n",
      "  (layer3): Sequential(\n",
      "    (0): BasicBlock(\n",
      "      (conv1): Conv2d(128, 256, kernel_size=(3, 3), stride=(2, 2), padding=(1, 1), bias=False)\n",
      "      (bn1): BatchNorm2d(256, eps=1e-05, momentum=0.1, affine=True, track_running_stats=True)\n",
      "      (relu): ReLU(inplace=True)\n",
      "      (conv2): Conv2d(256, 256, kernel_size=(3, 3), stride=(1, 1), padding=(1, 1), bias=False)\n",
      "      (bn2): BatchNorm2d(256, eps=1e-05, momentum=0.1, affine=True, track_running_stats=True)\n",
      "      (downsample): Sequential(\n",
      "        (0): Conv2d(128, 256, kernel_size=(1, 1), stride=(2, 2), bias=False)\n",
      "        (1): BatchNorm2d(256, eps=1e-05, momentum=0.1, affine=True, track_running_stats=True)\n",
      "      )\n",
      "    )\n",
      "    (1): BasicBlock(\n",
      "      (conv1): Conv2d(256, 256, kernel_size=(3, 3), stride=(1, 1), padding=(1, 1), bias=False)\n",
      "      (bn1): BatchNorm2d(256, eps=1e-05, momentum=0.1, affine=True, track_running_stats=True)\n",
      "      (relu): ReLU(inplace=True)\n",
      "      (conv2): Conv2d(256, 256, kernel_size=(3, 3), stride=(1, 1), padding=(1, 1), bias=False)\n",
      "      (bn2): BatchNorm2d(256, eps=1e-05, momentum=0.1, affine=True, track_running_stats=True)\n",
      "    )\n",
      "  )\n",
      "  (layer4): Sequential(\n",
      "    (0): BasicBlock(\n",
      "      (conv1): Conv2d(256, 512, kernel_size=(3, 3), stride=(2, 2), padding=(1, 1), bias=False)\n",
      "      (bn1): BatchNorm2d(512, eps=1e-05, momentum=0.1, affine=True, track_running_stats=True)\n",
      "      (relu): ReLU(inplace=True)\n",
      "      (conv2): Conv2d(512, 512, kernel_size=(3, 3), stride=(1, 1), padding=(1, 1), bias=False)\n",
      "      (bn2): BatchNorm2d(512, eps=1e-05, momentum=0.1, affine=True, track_running_stats=True)\n",
      "      (downsample): Sequential(\n",
      "        (0): Conv2d(256, 512, kernel_size=(1, 1), stride=(2, 2), bias=False)\n",
      "        (1): BatchNorm2d(512, eps=1e-05, momentum=0.1, affine=True, track_running_stats=True)\n",
      "      )\n",
      "    )\n",
      "    (1): BasicBlock(\n",
      "      (conv1): Conv2d(512, 512, kernel_size=(3, 3), stride=(1, 1), padding=(1, 1), bias=False)\n",
      "      (bn1): BatchNorm2d(512, eps=1e-05, momentum=0.1, affine=True, track_running_stats=True)\n",
      "      (relu): ReLU(inplace=True)\n",
      "      (conv2): Conv2d(512, 512, kernel_size=(3, 3), stride=(1, 1), padding=(1, 1), bias=False)\n",
      "      (bn2): BatchNorm2d(512, eps=1e-05, momentum=0.1, affine=True, track_running_stats=True)\n",
      "    )\n",
      "  )\n",
      "  (avgpool): AdaptiveAvgPool2d(output_size=(1, 1))\n",
      "  (fc): Sequential(\n",
      "    (0): Linear(in_features=512, out_features=256, bias=True)\n",
      "    (1): ReLU()\n",
      "    (2): Dropout(p=0.5, inplace=False)\n",
      "    (3): Linear(in_features=256, out_features=8, bias=True)\n",
      "    (4): LogSoftmax(dim=1)\n",
      "  )\n",
      ")\n"
     ]
    }
   ],
   "execution_count": 14
  },
  {
   "metadata": {
    "ExecuteTime": {
     "end_time": "2024-11-22T12:08:03.712996Z",
     "start_time": "2024-11-22T12:02:42.878853Z"
    }
   },
   "cell_type": "code",
   "source": [
    "# Loss function dan optimizer\n",
    "criterion = nn.NLLLoss()\n",
    "optimizer = optim.Adam(model_resnet.fc.parameters(), lr=0.001)\n",
    "\n",
    "# Jumlah epoch\n",
    "num_epochs = 25\n",
    "\n",
    "# History training\n",
    "train_losses = []\n",
    "valid_losses = []\n",
    "train_accuracies = []\n",
    "valid_accuracies = []\n",
    "\n",
    "# Training loop\n",
    "for epoch in range(num_epochs):\n",
    "    print(f\"Epoch {epoch+1}/{num_epochs}\")\n",
    "    \n",
    "    # Training phase\n",
    "    model_resnet.train()\n",
    "    running_loss = 0.0\n",
    "    running_corrects = 0\n",
    "    for inputs, labels in tqdm(train_loader):\n",
    "        inputs = inputs.to(device)\n",
    "        labels = labels.to(device)\n",
    "\n",
    "        optimizer.zero_grad()\n",
    "        outputs = model_resnet(inputs)\n",
    "        loss = criterion(outputs, labels)\n",
    "        loss.backward()\n",
    "        optimizer.step()\n",
    "\n",
    "        running_loss += loss.item() * inputs.size(0)\n",
    "        _, preds = torch.max(outputs, 1)\n",
    "        running_corrects += torch.sum(preds == labels.data)\n",
    "\n",
    "    epoch_loss = running_loss / len(train_dataset)\n",
    "    epoch_acc = running_corrects.double() / len(train_dataset)\n",
    "    train_losses.append(epoch_loss)\n",
    "    train_accuracies.append(epoch_acc.item())\n",
    "\n",
    "    # Validation phase\n",
    "    model_resnet.eval()\n",
    "    val_running_loss = 0.0\n",
    "    val_running_corrects = 0\n",
    "    with torch.no_grad():\n",
    "        for inputs, labels in validation_loader:\n",
    "            inputs = inputs.to(device)\n",
    "            labels = labels.to(device)\n",
    "\n",
    "            outputs = model_resnet(inputs)\n",
    "            loss = criterion(outputs, labels)\n",
    "\n",
    "            val_running_loss += loss.item() * inputs.size(0)\n",
    "            _, preds = torch.max(outputs, 1)\n",
    "            val_running_corrects += torch.sum(preds == labels.data)\n",
    "\n",
    "    val_epoch_loss = val_running_loss / len(validation_dataset)\n",
    "    val_epoch_acc = val_running_corrects.double() / len(validation_dataset)\n",
    "    valid_losses.append(val_epoch_loss)\n",
    "    valid_accuracies.append(val_epoch_acc.item())\n",
    "\n",
    "    print(f\"Train Loss: {epoch_loss:.4f}, Train Acc: {epoch_acc:.4f}\")\n",
    "    print(f\"Val Loss: {val_epoch_loss:.4f}, Val Acc: {val_epoch_acc:.4f}\")\n",
    "\n",
    "print(\"Training selesai!\")\n"
   ],
   "id": "e59a5b0c28dd1b56",
   "outputs": [
    {
     "name": "stdout",
     "output_type": "stream",
     "text": [
      "Epoch 1/25\n"
     ]
    },
    {
     "name": "stderr",
     "output_type": "stream",
     "text": [
      "100%|██████████| 4/4 [00:08<00:00,  2.23s/it]\n"
     ]
    },
    {
     "name": "stdout",
     "output_type": "stream",
     "text": [
      "Train Loss: 2.1824, Train Acc: 0.1094\n",
      "Val Loss: 2.1864, Val Acc: 0.0536\n",
      "Epoch 2/25\n"
     ]
    },
    {
     "name": "stderr",
     "output_type": "stream",
     "text": [
      "100%|██████████| 4/4 [00:08<00:00,  2.17s/it]\n"
     ]
    },
    {
     "name": "stdout",
     "output_type": "stream",
     "text": [
      "Train Loss: 2.1031, Train Acc: 0.1641\n",
      "Val Loss: 2.2749, Val Acc: 0.0357\n",
      "Epoch 3/25\n"
     ]
    },
    {
     "name": "stderr",
     "output_type": "stream",
     "text": [
      "100%|██████████| 4/4 [00:08<00:00,  2.16s/it]\n"
     ]
    },
    {
     "name": "stdout",
     "output_type": "stream",
     "text": [
      "Train Loss: 2.0755, Train Acc: 0.1797\n",
      "Val Loss: 2.2092, Val Acc: 0.0357\n",
      "Epoch 4/25\n"
     ]
    },
    {
     "name": "stderr",
     "output_type": "stream",
     "text": [
      "100%|██████████| 4/4 [00:08<00:00,  2.16s/it]\n"
     ]
    },
    {
     "name": "stdout",
     "output_type": "stream",
     "text": [
      "Train Loss: 1.9941, Train Acc: 0.2031\n",
      "Val Loss: 2.2613, Val Acc: 0.0179\n",
      "Epoch 5/25\n"
     ]
    },
    {
     "name": "stderr",
     "output_type": "stream",
     "text": [
      "100%|██████████| 4/4 [00:08<00:00,  2.10s/it]\n"
     ]
    },
    {
     "name": "stdout",
     "output_type": "stream",
     "text": [
      "Train Loss: 1.9279, Train Acc: 0.3125\n",
      "Val Loss: 2.3099, Val Acc: 0.0000\n",
      "Epoch 6/25\n"
     ]
    },
    {
     "name": "stderr",
     "output_type": "stream",
     "text": [
      "100%|██████████| 4/4 [00:08<00:00,  2.14s/it]\n"
     ]
    },
    {
     "name": "stdout",
     "output_type": "stream",
     "text": [
      "Train Loss: 1.8720, Train Acc: 0.3281\n",
      "Val Loss: 2.3558, Val Acc: 0.0179\n",
      "Epoch 7/25\n"
     ]
    },
    {
     "name": "stderr",
     "output_type": "stream",
     "text": [
      "100%|██████████| 4/4 [00:08<00:00,  2.16s/it]\n"
     ]
    },
    {
     "name": "stdout",
     "output_type": "stream",
     "text": [
      "Train Loss: 1.8946, Train Acc: 0.2578\n",
      "Val Loss: 2.4035, Val Acc: 0.0000\n",
      "Epoch 8/25\n"
     ]
    },
    {
     "name": "stderr",
     "output_type": "stream",
     "text": [
      "100%|██████████| 4/4 [00:08<00:00,  2.16s/it]\n"
     ]
    },
    {
     "name": "stdout",
     "output_type": "stream",
     "text": [
      "Train Loss: 1.8242, Train Acc: 0.3359\n",
      "Val Loss: 2.3996, Val Acc: 0.0000\n",
      "Epoch 9/25\n"
     ]
    },
    {
     "name": "stderr",
     "output_type": "stream",
     "text": [
      "100%|██████████| 4/4 [00:08<00:00,  2.18s/it]\n"
     ]
    },
    {
     "name": "stdout",
     "output_type": "stream",
     "text": [
      "Train Loss: 1.7383, Train Acc: 0.3906\n",
      "Val Loss: 2.4352, Val Acc: 0.0000\n",
      "Epoch 10/25\n"
     ]
    },
    {
     "name": "stderr",
     "output_type": "stream",
     "text": [
      "100%|██████████| 4/4 [00:08<00:00,  2.14s/it]\n"
     ]
    },
    {
     "name": "stdout",
     "output_type": "stream",
     "text": [
      "Train Loss: 1.7429, Train Acc: 0.2969\n",
      "Val Loss: 2.4948, Val Acc: 0.0179\n",
      "Epoch 11/25\n"
     ]
    },
    {
     "name": "stderr",
     "output_type": "stream",
     "text": [
      "100%|██████████| 4/4 [00:08<00:00,  2.18s/it]\n"
     ]
    },
    {
     "name": "stdout",
     "output_type": "stream",
     "text": [
      "Train Loss: 1.7358, Train Acc: 0.4141\n",
      "Val Loss: 2.5311, Val Acc: 0.0179\n",
      "Epoch 12/25\n"
     ]
    },
    {
     "name": "stderr",
     "output_type": "stream",
     "text": [
      "100%|██████████| 4/4 [00:08<00:00,  2.11s/it]\n"
     ]
    },
    {
     "name": "stdout",
     "output_type": "stream",
     "text": [
      "Train Loss: 1.7119, Train Acc: 0.3750\n",
      "Val Loss: 2.5220, Val Acc: 0.0179\n",
      "Epoch 13/25\n"
     ]
    },
    {
     "name": "stderr",
     "output_type": "stream",
     "text": [
      "100%|██████████| 4/4 [00:08<00:00,  2.14s/it]\n"
     ]
    },
    {
     "name": "stdout",
     "output_type": "stream",
     "text": [
      "Train Loss: 1.6514, Train Acc: 0.4375\n",
      "Val Loss: 2.5609, Val Acc: 0.0000\n",
      "Epoch 14/25\n"
     ]
    },
    {
     "name": "stderr",
     "output_type": "stream",
     "text": [
      "100%|██████████| 4/4 [00:08<00:00,  2.10s/it]\n"
     ]
    },
    {
     "name": "stdout",
     "output_type": "stream",
     "text": [
      "Train Loss: 1.6639, Train Acc: 0.3516\n",
      "Val Loss: 2.5965, Val Acc: 0.0179\n",
      "Epoch 15/25\n"
     ]
    },
    {
     "name": "stderr",
     "output_type": "stream",
     "text": [
      "100%|██████████| 4/4 [00:08<00:00,  2.11s/it]\n"
     ]
    },
    {
     "name": "stdout",
     "output_type": "stream",
     "text": [
      "Train Loss: 1.6088, Train Acc: 0.4844\n",
      "Val Loss: 2.6351, Val Acc: 0.0179\n",
      "Epoch 16/25\n"
     ]
    },
    {
     "name": "stderr",
     "output_type": "stream",
     "text": [
      "100%|██████████| 4/4 [00:08<00:00,  2.14s/it]\n"
     ]
    },
    {
     "name": "stdout",
     "output_type": "stream",
     "text": [
      "Train Loss: 1.5732, Train Acc: 0.4219\n",
      "Val Loss: 2.6500, Val Acc: 0.0000\n",
      "Epoch 17/25\n"
     ]
    },
    {
     "name": "stderr",
     "output_type": "stream",
     "text": [
      "100%|██████████| 4/4 [00:08<00:00,  2.16s/it]\n"
     ]
    },
    {
     "name": "stdout",
     "output_type": "stream",
     "text": [
      "Train Loss: 1.4955, Train Acc: 0.5156\n",
      "Val Loss: 2.7190, Val Acc: 0.0000\n",
      "Epoch 18/25\n"
     ]
    },
    {
     "name": "stderr",
     "output_type": "stream",
     "text": [
      "100%|██████████| 4/4 [00:08<00:00,  2.18s/it]\n"
     ]
    },
    {
     "name": "stdout",
     "output_type": "stream",
     "text": [
      "Train Loss: 1.4061, Train Acc: 0.5859\n",
      "Val Loss: 2.7743, Val Acc: 0.0357\n",
      "Epoch 19/25\n"
     ]
    },
    {
     "name": "stderr",
     "output_type": "stream",
     "text": [
      "100%|██████████| 4/4 [00:08<00:00,  2.19s/it]\n"
     ]
    },
    {
     "name": "stdout",
     "output_type": "stream",
     "text": [
      "Train Loss: 1.4502, Train Acc: 0.5234\n",
      "Val Loss: 2.7994, Val Acc: 0.0357\n",
      "Epoch 20/25\n"
     ]
    },
    {
     "name": "stderr",
     "output_type": "stream",
     "text": [
      "100%|██████████| 4/4 [00:08<00:00,  2.12s/it]\n"
     ]
    },
    {
     "name": "stdout",
     "output_type": "stream",
     "text": [
      "Train Loss: 1.3766, Train Acc: 0.5703\n",
      "Val Loss: 2.7923, Val Acc: 0.0000\n",
      "Epoch 21/25\n"
     ]
    },
    {
     "name": "stderr",
     "output_type": "stream",
     "text": [
      "100%|██████████| 4/4 [00:08<00:00,  2.08s/it]\n"
     ]
    },
    {
     "name": "stdout",
     "output_type": "stream",
     "text": [
      "Train Loss: 1.3422, Train Acc: 0.5781\n",
      "Val Loss: 2.8710, Val Acc: 0.0000\n",
      "Epoch 22/25\n"
     ]
    },
    {
     "name": "stderr",
     "output_type": "stream",
     "text": [
      "100%|██████████| 4/4 [00:08<00:00,  2.17s/it]\n"
     ]
    },
    {
     "name": "stdout",
     "output_type": "stream",
     "text": [
      "Train Loss: 1.3446, Train Acc: 0.5859\n",
      "Val Loss: 2.9449, Val Acc: 0.0179\n",
      "Epoch 23/25\n"
     ]
    },
    {
     "name": "stderr",
     "output_type": "stream",
     "text": [
      "100%|██████████| 4/4 [00:08<00:00,  2.17s/it]\n"
     ]
    },
    {
     "name": "stdout",
     "output_type": "stream",
     "text": [
      "Train Loss: 1.2922, Train Acc: 0.5938\n",
      "Val Loss: 2.9507, Val Acc: 0.0179\n",
      "Epoch 24/25\n"
     ]
    },
    {
     "name": "stderr",
     "output_type": "stream",
     "text": [
      "100%|██████████| 4/4 [00:08<00:00,  2.11s/it]\n"
     ]
    },
    {
     "name": "stdout",
     "output_type": "stream",
     "text": [
      "Train Loss: 1.1475, Train Acc: 0.6641\n",
      "Val Loss: 2.9827, Val Acc: 0.0179\n",
      "Epoch 25/25\n"
     ]
    },
    {
     "name": "stderr",
     "output_type": "stream",
     "text": [
      "100%|██████████| 4/4 [00:08<00:00,  2.14s/it]\n"
     ]
    },
    {
     "name": "stdout",
     "output_type": "stream",
     "text": [
      "Train Loss: 1.2789, Train Acc: 0.5625\n",
      "Val Loss: 2.9918, Val Acc: 0.0179\n",
      "Training selesai!\n"
     ]
    }
   ],
   "execution_count": 15
  },
  {
   "metadata": {
    "ExecuteTime": {
     "end_time": "2024-11-22T12:08:23.622143Z",
     "start_time": "2024-11-22T12:08:23.425963Z"
    }
   },
   "cell_type": "code",
   "source": [
    "# 5. Visualisasi Skor Epoch\n",
    "\n",
    "# Plot Akurasi\n",
    "plt.figure(figsize=(8, 6))\n",
    "plt.plot(train_accuracies, label='Training Akurasi')\n",
    "plt.plot(valid_accuracies, label='Validation Akurasi')\n",
    "plt.title('Akurasi Training dan Validation')\n",
    "plt.xlabel('Epoch')\n",
    "plt.ylabel('Akurasi')\n",
    "plt.legend()\n",
    "plt.show()\n",
    "\n",
    "# Plot Loss\n",
    "plt.figure(figsize=(8, 6))\n",
    "plt.plot(train_losses, label='Training Loss')\n",
    "plt.plot(valid_losses, label='Validation Loss')\n",
    "plt.title('Loss Training dan Validation')\n",
    "plt.xlabel('Epoch')\n",
    "plt.ylabel('Loss')\n",
    "plt.legend()\n",
    "plt.show()\n"
   ],
   "id": "1ab4a0b24eb10763",
   "outputs": [
    {
     "data": {
      "text/plain": [
       "<Figure size 800x600 with 1 Axes>"
      ],
      "image/png": "[encoded data removed]"
     },
     "metadata": {},
     "output_type": "display_data"
    },
    {
     "data": {
      "text/plain": [
       "<Figure size 800x600 with 1 Axes>"
      ],
      "image/png": "[encoded data removed]"
     },
     "metadata": {},
     "output_type": "display_data"
    }
   ],
   "execution_count": 16
  },
  {
   "metadata": {},
   "cell_type": "code",
   "outputs": [],
   "execution_count": null,
   "source": "",
   "id": "a76b00f09b4c20c6"
  }
 ],
 "metadata": {
  "kernelspec": {
   "display_name": "Python 3",
   "language": "python",
   "name": "python3"
  },
  "language_info": {
   "codemirror_mode": {
    "name": "ipython",
    "version": 2
   },
   "file_extension": ".py",
   "mimetype": "text/x-python",
   "name": "python",
   "nbconvert_exporter": "python",
   "pygments_lexer": "ipython2",
   "version": "2.7.6"
  }
 },
 "nbformat": 4,
 "nbformat_minor": 5
}
